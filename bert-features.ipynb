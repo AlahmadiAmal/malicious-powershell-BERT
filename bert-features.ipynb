{
  "nbformat": 4,
  "nbformat_minor": 0,
  "metadata": {
    "colab": {
      "provenance": [],
      "toc_visible": true,
      "authorship_tag": "ABX9TyOBvWtSZPlTFhp40T38NGFd",
      "include_colab_link": true
    },
    "kernelspec": {
      "name": "python3",
      "display_name": "Python 3"
    },
    "language_info": {
      "name": "python"
    }
  },
  "cells": [
    {
      "cell_type": "markdown",
      "metadata": {
        "id": "view-in-github",
        "colab_type": "text"
      },
      "source": [
        "<a href=\"https://colab.research.google.com/github/AlahmadiAmal/malicious-powershell-attention/blob/main/bert-features.ipynb\" target=\"_parent\"><img src=\"https://colab.research.google.com/assets/colab-badge.svg\" alt=\"Open In Colab\"/></a>"
      ]
    },
    {
      "cell_type": "markdown",
      "source": [
        "The following notebook studies the validity of BERT extracted tokens and compares it with a normal tensorflow Tokenizer.   "
      ],
      "metadata": {
        "id": "Exqk6kg9OzkS"
      }
    },
    {
      "cell_type": "markdown",
      "source": [
        "# Installations"
      ],
      "metadata": {
        "id": "9eIfc0yJPVmK"
      }
    },
    {
      "cell_type": "code",
      "execution_count": 2,
      "metadata": {
        "colab": {
          "base_uri": "https://localhost:8080/"
        },
        "id": "RJ206trdOMQZ",
        "outputId": "a80f24a3-c653-4315-f81a-27ca1bf2f5ff"
      },
      "outputs": [
        {
          "output_type": "stream",
          "name": "stdout",
          "text": [
            "Looking in indexes: https://pypi.org/simple, https://us-python.pkg.dev/colab-wheels/public/simple/\n",
            "Collecting pytorch-pretrained-bert\n",
            "  Downloading pytorch_pretrained_bert-0.6.2-py3-none-any.whl (123 kB)\n",
            "\u001b[2K     \u001b[90m━━━━━━━━━━━━━━━━━━━━━━━━━━━━━━━━━━━━━━━\u001b[0m \u001b[32m123.8/123.8 KB\u001b[0m \u001b[31m2.4 MB/s\u001b[0m eta \u001b[36m0:00:00\u001b[0m\n",
            "\u001b[?25hRequirement already satisfied: torch>=0.4.1 in /usr/local/lib/python3.8/dist-packages (from pytorch-pretrained-bert) (1.13.1+cu116)\n",
            "Collecting boto3\n",
            "  Downloading boto3-1.26.76-py3-none-any.whl (132 kB)\n",
            "\u001b[2K     \u001b[90m━━━━━━━━━━━━━━━━━━━━━━━━━━━━━━━━━━━━━━━\u001b[0m \u001b[32m132.7/132.7 KB\u001b[0m \u001b[31m2.3 MB/s\u001b[0m eta \u001b[36m0:00:00\u001b[0m\n",
            "\u001b[?25hRequirement already satisfied: numpy in /usr/local/lib/python3.8/dist-packages (from pytorch-pretrained-bert) (1.21.6)\n",
            "Requirement already satisfied: tqdm in /usr/local/lib/python3.8/dist-packages (from pytorch-pretrained-bert) (4.64.1)\n",
            "Requirement already satisfied: requests in /usr/local/lib/python3.8/dist-packages (from pytorch-pretrained-bert) (2.25.1)\n",
            "Requirement already satisfied: regex in /usr/local/lib/python3.8/dist-packages (from pytorch-pretrained-bert) (2022.6.2)\n",
            "Requirement already satisfied: typing-extensions in /usr/local/lib/python3.8/dist-packages (from torch>=0.4.1->pytorch-pretrained-bert) (4.5.0)\n",
            "Collecting botocore<1.30.0,>=1.29.76\n",
            "  Downloading botocore-1.29.76-py3-none-any.whl (10.4 MB)\n",
            "\u001b[2K     \u001b[90m━━━━━━━━━━━━━━━━━━━━━━━━━━━━━━━━━━━━━━━━\u001b[0m \u001b[32m10.4/10.4 MB\u001b[0m \u001b[31m26.6 MB/s\u001b[0m eta \u001b[36m0:00:00\u001b[0m\n",
            "\u001b[?25hCollecting jmespath<2.0.0,>=0.7.1\n",
            "  Downloading jmespath-1.0.1-py3-none-any.whl (20 kB)\n",
            "Collecting s3transfer<0.7.0,>=0.6.0\n",
            "  Downloading s3transfer-0.6.0-py3-none-any.whl (79 kB)\n",
            "\u001b[2K     \u001b[90m━━━━━━━━━━━━━━━━━━━━━━━━━━━━━━━━━━━━━━━━\u001b[0m \u001b[32m79.6/79.6 KB\u001b[0m \u001b[31m10.1 MB/s\u001b[0m eta \u001b[36m0:00:00\u001b[0m\n",
            "\u001b[?25hRequirement already satisfied: certifi>=2017.4.17 in /usr/local/lib/python3.8/dist-packages (from requests->pytorch-pretrained-bert) (2022.12.7)\n",
            "Requirement already satisfied: idna<3,>=2.5 in /usr/local/lib/python3.8/dist-packages (from requests->pytorch-pretrained-bert) (2.10)\n",
            "Requirement already satisfied: chardet<5,>=3.0.2 in /usr/local/lib/python3.8/dist-packages (from requests->pytorch-pretrained-bert) (4.0.0)\n",
            "Requirement already satisfied: urllib3<1.27,>=1.21.1 in /usr/local/lib/python3.8/dist-packages (from requests->pytorch-pretrained-bert) (1.24.3)\n",
            "Requirement already satisfied: python-dateutil<3.0.0,>=2.1 in /usr/local/lib/python3.8/dist-packages (from botocore<1.30.0,>=1.29.76->boto3->pytorch-pretrained-bert) (2.8.2)\n",
            "Collecting urllib3<1.27,>=1.21.1\n",
            "  Downloading urllib3-1.26.14-py2.py3-none-any.whl (140 kB)\n",
            "\u001b[2K     \u001b[90m━━━━━━━━━━━━━━━━━━━━━━━━━━━━━━━━━━━━━━\u001b[0m \u001b[32m140.6/140.6 KB\u001b[0m \u001b[31m13.7 MB/s\u001b[0m eta \u001b[36m0:00:00\u001b[0m\n",
            "\u001b[?25hRequirement already satisfied: six>=1.5 in /usr/local/lib/python3.8/dist-packages (from python-dateutil<3.0.0,>=2.1->botocore<1.30.0,>=1.29.76->boto3->pytorch-pretrained-bert) (1.15.0)\n",
            "Installing collected packages: urllib3, jmespath, botocore, s3transfer, boto3, pytorch-pretrained-bert\n",
            "  Attempting uninstall: urllib3\n",
            "    Found existing installation: urllib3 1.24.3\n",
            "    Uninstalling urllib3-1.24.3:\n",
            "      Successfully uninstalled urllib3-1.24.3\n",
            "Successfully installed boto3-1.26.76 botocore-1.29.76 jmespath-1.0.1 pytorch-pretrained-bert-0.6.2 s3transfer-0.6.0 urllib3-1.26.14\n"
          ]
        }
      ],
      "source": [
        "!pip install pytorch-pretrained-bert"
      ]
    },
    {
      "cell_type": "markdown",
      "source": [
        "# Import Libraries"
      ],
      "metadata": {
        "id": "MWz1TBgtPgRP"
      }
    },
    {
      "cell_type": "code",
      "source": [
        "import torch\n",
        "from pytorch_pretrained_bert import BertTokenizer, BertModel, BertForMaskedLM\n",
        "import numpy as np\n",
        "from google.colab import drive\n",
        "from xgboost import XGBClassifier\n",
        "from sklearn.metrics import classification_report , roc_auc_score, f1_score, precision_score, recall_score, accuracy_score , confusion_matrix\n",
        "import seaborn as sns\n",
        "import matplotlib.pyplot as plt\n",
        "import pandas as pd\n",
        "import re\n",
        "from sklearn.model_selection import train_test_split\n",
        "from sklearn import preprocessing\n",
        "from tensorflow.keras.preprocessing.text import Tokenizer\n",
        "from tensorflow.keras.preprocessing.sequence import pad_sequences\n",
        "from keras.models import Sequential, Model\n",
        "from keras.layers import Dense, Input, GaussianNoise\n"
      ],
      "metadata": {
        "id": "RXwWfatmPfjk"
      },
      "execution_count": 14,
      "outputs": []
    },
    {
      "cell_type": "markdown",
      "source": [
        "# Mount Drive"
      ],
      "metadata": {
        "id": "SXzROy-yQECC"
      }
    },
    {
      "cell_type": "code",
      "source": [
        "drive.mount('/content/drive/')"
      ],
      "metadata": {
        "colab": {
          "base_uri": "https://localhost:8080/"
        },
        "id": "9AD5dtlnPOcg",
        "outputId": "99a4deb2-5dc6-4a51-b716-e5ab1a7f1d92"
      },
      "execution_count": 4,
      "outputs": [
        {
          "output_type": "stream",
          "name": "stdout",
          "text": [
            "Mounted at /content/drive/\n"
          ]
        }
      ]
    },
    {
      "cell_type": "markdown",
      "source": [
        "# Building the dataframe"
      ],
      "metadata": {
        "id": "hhF5ZBPaQHMT"
      }
    },
    {
      "cell_type": "markdown",
      "source": [
        "The tokens were extracted using the PSParse tokenizer in powershell, the resulting tokens were saved in text files. The build.py entails how the content of these text files were converted into a numpy array.  "
      ],
      "metadata": {
        "id": "-LKTp4IiQNCW"
      }
    },
    {
      "cell_type": "code",
      "source": [
        "benign_tokens = np.load('/content/drive/MyDrive/Work #2 PowerShell/Dataset/np_benign_tokens.npy', allow_pickle=True)\n",
        "benign_scripts = np.load('/content/drive/MyDrive/Work #2 PowerShell/Dataset/np_benign_script.npy', allow_pickle=True)\n",
        "malicious_scripts = np.load('/content/drive/MyDrive/Work #2 PowerShell/Dataset/np_malicious_script.npy', allow_pickle=True)\n",
        "malicious_tokens = np.load('/content/drive/MyDrive/Work #2 PowerShell/Dataset/np_malicious_tokens.npy', allow_pickle=True)"
      ],
      "metadata": {
        "id": "MAIbMZwTRmu2"
      },
      "execution_count": null,
      "outputs": []
    },
    {
      "cell_type": "code",
      "source": [
        "mal_tokens = []\n",
        "for script in malicious_tokens:\n",
        "  tmp = []\n",
        "  for token in script:\n",
        "    tmp.append(token[0])\n",
        "  mal_tokens.append(tmp)"
      ],
      "metadata": {
        "id": "6Jn76RwVRw-5"
      },
      "execution_count": null,
      "outputs": []
    },
    {
      "cell_type": "code",
      "source": [
        "np_mal_tokens = np.array(mal_tokens)"
      ],
      "metadata": {
        "id": "M3BXQzRhT6cz"
      },
      "execution_count": null,
      "outputs": []
    },
    {
      "cell_type": "code",
      "source": [
        "ben_tokens = []\n",
        "for script in benign_tokens:\n",
        "  tmp = []\n",
        "  for token in script:\n",
        "    tmp.append(token[0])\n",
        "  ben_tokens.append(tmp)"
      ],
      "metadata": {
        "id": "w1ZOQIDGR17T"
      },
      "execution_count": null,
      "outputs": []
    },
    {
      "cell_type": "code",
      "source": [
        "np_ben_tokens = np.array(ben_tokens)"
      ],
      "metadata": {
        "id": "ueiLZXybT_KB"
      },
      "execution_count": null,
      "outputs": []
    },
    {
      "cell_type": "code",
      "source": [
        "mal_dict = {}\n",
        "for s in range(len(np_mal_tokens)):\n",
        "  try:\n",
        "    data = {'Script' : malicious_scripts[s],\n",
        "                'Tokens' : np_mal_tokens[s],\n",
        "                'Label' : 0}\n",
        "    mal_dict[s] = data\n",
        "  except: \n",
        "    continue\n",
        "\n",
        "mal_df = pd.DataFrame(mal_dict)\n",
        "mal_df = mal_df.transpose()"
      ],
      "metadata": {
        "id": "28kIO89RR8Xl"
      },
      "execution_count": null,
      "outputs": []
    },
    {
      "cell_type": "code",
      "source": [
        "ben_dict = {}\n",
        "for s in range(len(np_ben_tokens)):\n",
        "  try:\n",
        "    data = {'Script' : benign_scripts[s],\n",
        "                'Tokens' : np_ben_tokens[s],\n",
        "                'Label' : 1}\n",
        "    ben_dict[s] = data\n",
        "  except: \n",
        "    continue\n",
        "\n",
        "ben_df = pd.DataFrame(ben_dict)\n",
        "ben_df = ben_df.transpose()"
      ],
      "metadata": {
        "id": "qyAVBHVJSJ4g"
      },
      "execution_count": null,
      "outputs": []
    },
    {
      "cell_type": "code",
      "source": [
        "dataset = pd.concat([ben_df, mal_df])\n",
        "dataset = dataset.reset_index(drop = True)"
      ],
      "metadata": {
        "id": "Bp3Sm60ASN1t"
      },
      "execution_count": null,
      "outputs": []
    },
    {
      "cell_type": "markdown",
      "source": [
        "Based on the work done by Choi et al. [1] only six tokens are of real value, we filtered the token list based on their implementation."
      ],
      "metadata": {
        "id": "4jLkId14TA5G"
      }
    },
    {
      "cell_type": "code",
      "source": [
        "filtered_tokens = []\n",
        "wanted_tokens = ['Command', 'CommandArgument', 'CommandParameter', 'Keyword', 'Member','Variable']\n",
        "for row in range(len(dataset)):\n",
        "  tokens = dataset.Tokens[row]\n",
        "  tokens = tokens[1:-2]\n",
        "  tokens = re.sub(r'[^\\w\\s,]', '', tokens)\n",
        "  tokens = tokens.split(',')\n",
        "  tmp = []\n",
        "  for token in tokens:\n",
        "    if token.strip() in wanted_tokens:\n",
        "      tmp.append(token.strip())\n",
        "  filtered_tokens.append(tmp)"
      ],
      "metadata": {
        "id": "44XPgPLpS9UV"
      },
      "execution_count": null,
      "outputs": []
    },
    {
      "cell_type": "code",
      "source": [
        "np_filtered_tokens = np.array(filtered_tokens)"
      ],
      "metadata": {
        "id": "wpcrNhSXTXEc"
      },
      "execution_count": null,
      "outputs": []
    },
    {
      "cell_type": "code",
      "source": [
        "dataset['Filtered Tokens'] = np_filtered_tokens"
      ],
      "metadata": {
        "id": "pTUKBUHmTXx6"
      },
      "execution_count": null,
      "outputs": []
    },
    {
      "cell_type": "code",
      "source": [
        "dataset.head()"
      ],
      "metadata": {
        "id": "F7YQ8mWZS3yU",
        "outputId": "aefbc8f2-4a6f-4c68-975b-14dad61b244a",
        "colab": {
          "base_uri": "https://localhost:8080/",
          "height": 250
        }
      },
      "execution_count": 6,
      "outputs": [
        {
          "output_type": "execute_result",
          "data": {
            "text/plain": [
              "                                              Script  \\\n",
              "0  function Get-QlikServiceCluster {[CmdletBindin...   \n",
              "1                                             cmdlet   \n",
              "2  function Connect-ExchangeOnline {param([system...   \n",
              "3  $xlr8r = [psobject].assembly.gettype(\"System.M...   \n",
              "4  function Get-Input{param([Parameter(Mandatory=...   \n",
              "\n",
              "                                              Tokens  Label  \\\n",
              "0  ['Keyword', 'CommandArgument', 'GroupStart', '...      1   \n",
              "1  ['Keyword', 'CommandArgument', 'GroupStart', '...      1   \n",
              "2  ['Keyword', 'CommandArgument', 'GroupStart', '...      1   \n",
              "3  ['Variable', 'Operator', 'String', 'Variable',...      1   \n",
              "4  ['Keyword', 'CommandArgument', 'GroupStart', '...      1   \n",
              "\n",
              "                                     Filtered Tokens  \n",
              "0  ['Keyword', 'CommandArgument', 'Keyword', 'Mem...  \n",
              "1  ['Keyword', 'CommandArgument', 'Variable', 'Co...  \n",
              "2  ['Keyword', 'CommandArgument', 'Variable', 'Va...  \n",
              "3  ['Variable', 'Variable', 'Keyword', 'Variable'...  \n",
              "4  ['Keyword', 'CommandArgument', 'Keyword', 'Var...  "
            ],
            "text/html": [
              "\n",
              "  <div id=\"df-4b8d190e-86ee-49f2-9cd4-8a1b64966283\">\n",
              "    <div class=\"colab-df-container\">\n",
              "      <div>\n",
              "<style scoped>\n",
              "    .dataframe tbody tr th:only-of-type {\n",
              "        vertical-align: middle;\n",
              "    }\n",
              "\n",
              "    .dataframe tbody tr th {\n",
              "        vertical-align: top;\n",
              "    }\n",
              "\n",
              "    .dataframe thead th {\n",
              "        text-align: right;\n",
              "    }\n",
              "</style>\n",
              "<table border=\"1\" class=\"dataframe\">\n",
              "  <thead>\n",
              "    <tr style=\"text-align: right;\">\n",
              "      <th></th>\n",
              "      <th>Script</th>\n",
              "      <th>Tokens</th>\n",
              "      <th>Label</th>\n",
              "      <th>Filtered Tokens</th>\n",
              "    </tr>\n",
              "  </thead>\n",
              "  <tbody>\n",
              "    <tr>\n",
              "      <th>0</th>\n",
              "      <td>function Get-QlikServiceCluster {[CmdletBindin...</td>\n",
              "      <td>['Keyword', 'CommandArgument', 'GroupStart', '...</td>\n",
              "      <td>1</td>\n",
              "      <td>['Keyword', 'CommandArgument', 'Keyword', 'Mem...</td>\n",
              "    </tr>\n",
              "    <tr>\n",
              "      <th>1</th>\n",
              "      <td>cmdlet</td>\n",
              "      <td>['Keyword', 'CommandArgument', 'GroupStart', '...</td>\n",
              "      <td>1</td>\n",
              "      <td>['Keyword', 'CommandArgument', 'Variable', 'Co...</td>\n",
              "    </tr>\n",
              "    <tr>\n",
              "      <th>2</th>\n",
              "      <td>function Connect-ExchangeOnline {param([system...</td>\n",
              "      <td>['Keyword', 'CommandArgument', 'GroupStart', '...</td>\n",
              "      <td>1</td>\n",
              "      <td>['Keyword', 'CommandArgument', 'Variable', 'Va...</td>\n",
              "    </tr>\n",
              "    <tr>\n",
              "      <th>3</th>\n",
              "      <td>$xlr8r = [psobject].assembly.gettype(\"System.M...</td>\n",
              "      <td>['Variable', 'Operator', 'String', 'Variable',...</td>\n",
              "      <td>1</td>\n",
              "      <td>['Variable', 'Variable', 'Keyword', 'Variable'...</td>\n",
              "    </tr>\n",
              "    <tr>\n",
              "      <th>4</th>\n",
              "      <td>function Get-Input{param([Parameter(Mandatory=...</td>\n",
              "      <td>['Keyword', 'CommandArgument', 'GroupStart', '...</td>\n",
              "      <td>1</td>\n",
              "      <td>['Keyword', 'CommandArgument', 'Keyword', 'Var...</td>\n",
              "    </tr>\n",
              "  </tbody>\n",
              "</table>\n",
              "</div>\n",
              "      <button class=\"colab-df-convert\" onclick=\"convertToInteractive('df-4b8d190e-86ee-49f2-9cd4-8a1b64966283')\"\n",
              "              title=\"Convert this dataframe to an interactive table.\"\n",
              "              style=\"display:none;\">\n",
              "        \n",
              "  <svg xmlns=\"http://www.w3.org/2000/svg\" height=\"24px\"viewBox=\"0 0 24 24\"\n",
              "       width=\"24px\">\n",
              "    <path d=\"M0 0h24v24H0V0z\" fill=\"none\"/>\n",
              "    <path d=\"M18.56 5.44l.94 2.06.94-2.06 2.06-.94-2.06-.94-.94-2.06-.94 2.06-2.06.94zm-11 1L8.5 8.5l.94-2.06 2.06-.94-2.06-.94L8.5 2.5l-.94 2.06-2.06.94zm10 10l.94 2.06.94-2.06 2.06-.94-2.06-.94-.94-2.06-.94 2.06-2.06.94z\"/><path d=\"M17.41 7.96l-1.37-1.37c-.4-.4-.92-.59-1.43-.59-.52 0-1.04.2-1.43.59L10.3 9.45l-7.72 7.72c-.78.78-.78 2.05 0 2.83L4 21.41c.39.39.9.59 1.41.59.51 0 1.02-.2 1.41-.59l7.78-7.78 2.81-2.81c.8-.78.8-2.07 0-2.86zM5.41 20L4 18.59l7.72-7.72 1.47 1.35L5.41 20z\"/>\n",
              "  </svg>\n",
              "      </button>\n",
              "      \n",
              "  <style>\n",
              "    .colab-df-container {\n",
              "      display:flex;\n",
              "      flex-wrap:wrap;\n",
              "      gap: 12px;\n",
              "    }\n",
              "\n",
              "    .colab-df-convert {\n",
              "      background-color: #E8F0FE;\n",
              "      border: none;\n",
              "      border-radius: 50%;\n",
              "      cursor: pointer;\n",
              "      display: none;\n",
              "      fill: #1967D2;\n",
              "      height: 32px;\n",
              "      padding: 0 0 0 0;\n",
              "      width: 32px;\n",
              "    }\n",
              "\n",
              "    .colab-df-convert:hover {\n",
              "      background-color: #E2EBFA;\n",
              "      box-shadow: 0px 1px 2px rgba(60, 64, 67, 0.3), 0px 1px 3px 1px rgba(60, 64, 67, 0.15);\n",
              "      fill: #174EA6;\n",
              "    }\n",
              "\n",
              "    [theme=dark] .colab-df-convert {\n",
              "      background-color: #3B4455;\n",
              "      fill: #D2E3FC;\n",
              "    }\n",
              "\n",
              "    [theme=dark] .colab-df-convert:hover {\n",
              "      background-color: #434B5C;\n",
              "      box-shadow: 0px 1px 3px 1px rgba(0, 0, 0, 0.15);\n",
              "      filter: drop-shadow(0px 1px 2px rgba(0, 0, 0, 0.3));\n",
              "      fill: #FFFFFF;\n",
              "    }\n",
              "  </style>\n",
              "\n",
              "      <script>\n",
              "        const buttonEl =\n",
              "          document.querySelector('#df-4b8d190e-86ee-49f2-9cd4-8a1b64966283 button.colab-df-convert');\n",
              "        buttonEl.style.display =\n",
              "          google.colab.kernel.accessAllowed ? 'block' : 'none';\n",
              "\n",
              "        async function convertToInteractive(key) {\n",
              "          const element = document.querySelector('#df-4b8d190e-86ee-49f2-9cd4-8a1b64966283');\n",
              "          const dataTable =\n",
              "            await google.colab.kernel.invokeFunction('convertToInteractive',\n",
              "                                                     [key], {});\n",
              "          if (!dataTable) return;\n",
              "\n",
              "          const docLinkHtml = 'Like what you see? Visit the ' +\n",
              "            '<a target=\"_blank\" href=https://colab.research.google.com/notebooks/data_table.ipynb>data table notebook</a>'\n",
              "            + ' to learn more about interactive tables.';\n",
              "          element.innerHTML = '';\n",
              "          dataTable['output_type'] = 'display_data';\n",
              "          await google.colab.output.renderOutput(dataTable, element);\n",
              "          const docLink = document.createElement('div');\n",
              "          docLink.innerHTML = docLinkHtml;\n",
              "          element.appendChild(docLink);\n",
              "        }\n",
              "      </script>\n",
              "    </div>\n",
              "  </div>\n",
              "  "
            ]
          },
          "metadata": {},
          "execution_count": 6
        }
      ]
    },
    {
      "cell_type": "code",
      "source": [
        "y = dataset.Label\n",
        "X = np_filtered_tokens"
      ],
      "metadata": {
        "id": "tNG1MAOKUgRV"
      },
      "execution_count": 11,
      "outputs": []
    },
    {
      "cell_type": "markdown",
      "source": [
        "# Split into Training and Testing Sets"
      ],
      "metadata": {
        "id": "QHa51qfeTwYf"
      }
    },
    {
      "cell_type": "code",
      "source": [
        "x_train, x_test, y_train, y_test= train_test_split(X,y,test_size=0.2, shuffle = True)"
      ],
      "metadata": {
        "id": "sLXt-aqvWWFK"
      },
      "execution_count": null,
      "outputs": []
    },
    {
      "cell_type": "markdown",
      "source": [
        "# BERT Embedding"
      ],
      "metadata": {
        "id": "fyej0QcHWvQp"
      }
    },
    {
      "cell_type": "code",
      "source": [
        "# Load pre-trained model tokenizer (vocabulary)\n",
        "bert = BertTokenizer.from_pretrained('bert-base-uncased')"
      ],
      "metadata": {
        "colab": {
          "base_uri": "https://localhost:8080/"
        },
        "id": "wP4MHE76ONIy",
        "outputId": "d8f7c9b5-2531-4f72-dda1-67560a8ac380"
      },
      "execution_count": null,
      "outputs": [
        {
          "output_type": "stream",
          "name": "stderr",
          "text": [
            "100%|██████████| 231508/231508 [00:00<00:00, 1262970.85B/s]\n"
          ]
        }
      ]
    },
    {
      "cell_type": "code",
      "source": [
        "x_train[0]"
      ],
      "metadata": {
        "colab": {
          "base_uri": "https://localhost:8080/"
        },
        "id": "mCkfGpXHPd1b",
        "outputId": "f34b1ead-b68b-4eb6-d490-b4826f274833"
      },
      "execution_count": null,
      "outputs": [
        {
          "output_type": "execute_result",
          "data": {
            "text/plain": [
              "['Keyword',\n",
              " 'CommandArgument',\n",
              " 'Keyword',\n",
              " 'Keyword',\n",
              " 'Variable',\n",
              " 'Variable',\n",
              " 'Variable',\n",
              " 'Member',\n",
              " 'Variable',\n",
              " 'Member',\n",
              " 'Keyword',\n",
              " 'Command',\n",
              " 'CommandArgument']"
            ]
          },
          "metadata": {},
          "execution_count": 12
        }
      ]
    },
    {
      "cell_type": "code",
      "source": [
        "train_sentences = []\n",
        "for i in range(len(x_train)):\n",
        "  sentence = \"[CLS] \"\n",
        "  for j in range(len(x_train[i])):\n",
        "      sentence = sentence + ' '+str(x_train[i][j])\n",
        "  sentence = sentence + \" [SEP]\"\n",
        "  train_sentences.append(sentence.strip())\n",
        "\n",
        "train_sentences[0]"
      ],
      "metadata": {
        "colab": {
          "base_uri": "https://localhost:8080/",
          "height": 35
        },
        "id": "sx9CnwLoPfSh",
        "outputId": "3c0d03ae-75fc-4b71-aff0-604c14f7e1c3"
      },
      "execution_count": null,
      "outputs": [
        {
          "output_type": "execute_result",
          "data": {
            "text/plain": [
              "'[CLS]  Keyword CommandArgument Keyword Keyword Variable Variable Variable Member Variable Member Keyword Command CommandArgument [SEP]'"
            ],
            "application/vnd.google.colaboratory.intrinsic+json": {
              "type": "string"
            }
          },
          "metadata": {},
          "execution_count": 20
        }
      ]
    },
    {
      "cell_type": "code",
      "source": [
        "len(train_sentences)"
      ],
      "metadata": {
        "colab": {
          "base_uri": "https://localhost:8080/"
        },
        "id": "JX2aWQUXQD0d",
        "outputId": "d623b76d-59c9-470b-f1ff-1ea04311cc18"
      },
      "execution_count": null,
      "outputs": [
        {
          "output_type": "execute_result",
          "data": {
            "text/plain": [
              "19761"
            ]
          },
          "metadata": {},
          "execution_count": 19
        }
      ]
    },
    {
      "cell_type": "code",
      "source": [
        "bert_train = []\n",
        "for i in range(len(train_sentences)):\n",
        "  if len(train_sentences[i])>512: #bert takes a vector of length 512 at max, if sentence is longer slice \n",
        "    tokenized_bert = bert.tokenize(train_sentences[i][:512])\n",
        "  else:\n",
        "    tokenized_bert = bert.tokenize(train_sentences[i])\n",
        "  indexed_tokens = bert.convert_tokens_to_ids(tokenized_bert)\n",
        "  bert_train.append(indexed_tokens)\n",
        "\n",
        "bert_train[0]"
      ],
      "metadata": {
        "colab": {
          "base_uri": "https://localhost:8080/"
        },
        "id": "f5EdKFpeQhR3",
        "outputId": "dad35253-c8fc-46cc-a5fc-9c2680d76268"
      },
      "execution_count": null,
      "outputs": [
        {
          "output_type": "execute_result",
          "data": {
            "text/plain": [
              "[101,\n",
              " 3145,\n",
              " 18351,\n",
              " 3094,\n",
              " 2906,\n",
              " 22850,\n",
              " 4765,\n",
              " 3145,\n",
              " 18351,\n",
              " 3145,\n",
              " 18351,\n",
              " 8023,\n",
              " 8023,\n",
              " 8023,\n",
              " 2266,\n",
              " 8023,\n",
              " 2266,\n",
              " 3145,\n",
              " 18351,\n",
              " 3094,\n",
              " 3094,\n",
              " 2906,\n",
              " 22850,\n",
              " 4765,\n",
              " 102]"
            ]
          },
          "metadata": {},
          "execution_count": 30
        }
      ]
    },
    {
      "cell_type": "code",
      "source": [
        "bert_padded_train = bert_train.copy()\n",
        "for i in range(len(bert_padded_train)):\n",
        "  while len(bert_padded_train[i]) < 512:\n",
        "    bert_padded_train[i].append(0)"
      ],
      "metadata": {
        "id": "7OOxBPYfXdTv"
      },
      "execution_count": null,
      "outputs": []
    },
    {
      "cell_type": "code",
      "source": [
        "bert_padded_train_np = np.array(bert_padded_train)\n",
        "bert_padded_train_np.shape"
      ],
      "metadata": {
        "colab": {
          "base_uri": "https://localhost:8080/"
        },
        "id": "DC7MLTELUv9c",
        "outputId": "d45d08d1-fd0d-4ab9-b4b4-192db0ccd0bc"
      },
      "execution_count": null,
      "outputs": [
        {
          "output_type": "execute_result",
          "data": {
            "text/plain": [
              "(19761, 512)"
            ]
          },
          "metadata": {},
          "execution_count": 32
        }
      ]
    },
    {
      "cell_type": "code",
      "source": [
        "bert_padded_train_normal = preprocessing.normalize(bert_padded_train_np) #normalize features \n",
        "bert_padded_train_normal[0]"
      ],
      "metadata": {
        "colab": {
          "base_uri": "https://localhost:8080/"
        },
        "id": "UB1xRqCfVDeL",
        "outputId": "db8df314-b913-440f-c51d-7e3e062ba3f6"
      },
      "execution_count": null,
      "outputs": [
        {
          "output_type": "execute_result",
          "data": {
            "text/plain": [
              "array([0.00191227, 0.05954529, 0.34744537, 0.05857969, 0.05502023,\n",
              "       0.43262638, 0.09021727, 0.05954529, 0.34744537, 0.05954529,\n",
              "       0.34744537, 0.15190203, 0.15190203, 0.15190203, 0.0429029 ,\n",
              "       0.15190203, 0.0429029 , 0.05954529, 0.34744537, 0.05857969,\n",
              "       0.05857969, 0.05502023, 0.43262638, 0.09021727, 0.0019312 ,\n",
              "       0.        , 0.        , 0.        , 0.        , 0.        ,\n",
              "       0.        , 0.        , 0.        , 0.        , 0.        ,\n",
              "       0.        , 0.        , 0.        , 0.        , 0.        ,\n",
              "       0.        , 0.        , 0.        , 0.        , 0.        ,\n",
              "       0.        , 0.        , 0.        , 0.        , 0.        ,\n",
              "       0.        , 0.        , 0.        , 0.        , 0.        ,\n",
              "       0.        , 0.        , 0.        , 0.        , 0.        ,\n",
              "       0.        , 0.        , 0.        , 0.        , 0.        ,\n",
              "       0.        , 0.        , 0.        , 0.        , 0.        ,\n",
              "       0.        , 0.        , 0.        , 0.        , 0.        ,\n",
              "       0.        , 0.        , 0.        , 0.        , 0.        ,\n",
              "       0.        , 0.        , 0.        , 0.        , 0.        ,\n",
              "       0.        , 0.        , 0.        , 0.        , 0.        ,\n",
              "       0.        , 0.        , 0.        , 0.        , 0.        ,\n",
              "       0.        , 0.        , 0.        , 0.        , 0.        ,\n",
              "       0.        , 0.        , 0.        , 0.        , 0.        ,\n",
              "       0.        , 0.        , 0.        , 0.        , 0.        ,\n",
              "       0.        , 0.        , 0.        , 0.        , 0.        ,\n",
              "       0.        , 0.        , 0.        , 0.        , 0.        ,\n",
              "       0.        , 0.        , 0.        , 0.        , 0.        ,\n",
              "       0.        , 0.        , 0.        , 0.        , 0.        ,\n",
              "       0.        , 0.        , 0.        , 0.        , 0.        ,\n",
              "       0.        , 0.        , 0.        , 0.        , 0.        ,\n",
              "       0.        , 0.        , 0.        , 0.        , 0.        ,\n",
              "       0.        , 0.        , 0.        , 0.        , 0.        ,\n",
              "       0.        , 0.        , 0.        , 0.        , 0.        ,\n",
              "       0.        , 0.        , 0.        , 0.        , 0.        ,\n",
              "       0.        , 0.        , 0.        , 0.        , 0.        ,\n",
              "       0.        , 0.        , 0.        , 0.        , 0.        ,\n",
              "       0.        , 0.        , 0.        , 0.        , 0.        ,\n",
              "       0.        , 0.        , 0.        , 0.        , 0.        ,\n",
              "       0.        , 0.        , 0.        , 0.        , 0.        ,\n",
              "       0.        , 0.        , 0.        , 0.        , 0.        ,\n",
              "       0.        , 0.        , 0.        , 0.        , 0.        ,\n",
              "       0.        , 0.        , 0.        , 0.        , 0.        ,\n",
              "       0.        , 0.        , 0.        , 0.        , 0.        ,\n",
              "       0.        , 0.        , 0.        , 0.        , 0.        ,\n",
              "       0.        , 0.        , 0.        , 0.        , 0.        ,\n",
              "       0.        , 0.        , 0.        , 0.        , 0.        ,\n",
              "       0.        , 0.        , 0.        , 0.        , 0.        ,\n",
              "       0.        , 0.        , 0.        , 0.        , 0.        ,\n",
              "       0.        , 0.        , 0.        , 0.        , 0.        ,\n",
              "       0.        , 0.        , 0.        , 0.        , 0.        ,\n",
              "       0.        , 0.        , 0.        , 0.        , 0.        ,\n",
              "       0.        , 0.        , 0.        , 0.        , 0.        ,\n",
              "       0.        , 0.        , 0.        , 0.        , 0.        ,\n",
              "       0.        , 0.        , 0.        , 0.        , 0.        ,\n",
              "       0.        , 0.        , 0.        , 0.        , 0.        ,\n",
              "       0.        , 0.        , 0.        , 0.        , 0.        ,\n",
              "       0.        , 0.        , 0.        , 0.        , 0.        ,\n",
              "       0.        , 0.        , 0.        , 0.        , 0.        ,\n",
              "       0.        , 0.        , 0.        , 0.        , 0.        ,\n",
              "       0.        , 0.        , 0.        , 0.        , 0.        ,\n",
              "       0.        , 0.        , 0.        , 0.        , 0.        ,\n",
              "       0.        , 0.        , 0.        , 0.        , 0.        ,\n",
              "       0.        , 0.        , 0.        , 0.        , 0.        ,\n",
              "       0.        , 0.        , 0.        , 0.        , 0.        ,\n",
              "       0.        , 0.        , 0.        , 0.        , 0.        ,\n",
              "       0.        , 0.        , 0.        , 0.        , 0.        ,\n",
              "       0.        , 0.        , 0.        , 0.        , 0.        ,\n",
              "       0.        , 0.        , 0.        , 0.        , 0.        ,\n",
              "       0.        , 0.        , 0.        , 0.        , 0.        ,\n",
              "       0.        , 0.        , 0.        , 0.        , 0.        ,\n",
              "       0.        , 0.        , 0.        , 0.        , 0.        ,\n",
              "       0.        , 0.        , 0.        , 0.        , 0.        ,\n",
              "       0.        , 0.        , 0.        , 0.        , 0.        ,\n",
              "       0.        , 0.        , 0.        , 0.        , 0.        ,\n",
              "       0.        , 0.        , 0.        , 0.        , 0.        ,\n",
              "       0.        , 0.        , 0.        , 0.        , 0.        ,\n",
              "       0.        , 0.        , 0.        , 0.        , 0.        ,\n",
              "       0.        , 0.        , 0.        , 0.        , 0.        ,\n",
              "       0.        , 0.        , 0.        , 0.        , 0.        ,\n",
              "       0.        , 0.        , 0.        , 0.        , 0.        ,\n",
              "       0.        , 0.        , 0.        , 0.        , 0.        ,\n",
              "       0.        , 0.        , 0.        , 0.        , 0.        ,\n",
              "       0.        , 0.        , 0.        , 0.        , 0.        ,\n",
              "       0.        , 0.        , 0.        , 0.        , 0.        ,\n",
              "       0.        , 0.        , 0.        , 0.        , 0.        ,\n",
              "       0.        , 0.        , 0.        , 0.        , 0.        ,\n",
              "       0.        , 0.        , 0.        , 0.        , 0.        ,\n",
              "       0.        , 0.        , 0.        , 0.        , 0.        ,\n",
              "       0.        , 0.        , 0.        , 0.        , 0.        ,\n",
              "       0.        , 0.        , 0.        , 0.        , 0.        ,\n",
              "       0.        , 0.        , 0.        , 0.        , 0.        ,\n",
              "       0.        , 0.        , 0.        , 0.        , 0.        ,\n",
              "       0.        , 0.        , 0.        , 0.        , 0.        ,\n",
              "       0.        , 0.        , 0.        , 0.        , 0.        ,\n",
              "       0.        , 0.        , 0.        , 0.        , 0.        ,\n",
              "       0.        , 0.        , 0.        , 0.        , 0.        ,\n",
              "       0.        , 0.        , 0.        , 0.        , 0.        ,\n",
              "       0.        , 0.        , 0.        , 0.        , 0.        ,\n",
              "       0.        , 0.        , 0.        , 0.        , 0.        ,\n",
              "       0.        , 0.        , 0.        , 0.        , 0.        ,\n",
              "       0.        , 0.        , 0.        , 0.        , 0.        ,\n",
              "       0.        , 0.        , 0.        , 0.        , 0.        ,\n",
              "       0.        , 0.        , 0.        , 0.        , 0.        ,\n",
              "       0.        , 0.        , 0.        , 0.        , 0.        ,\n",
              "       0.        , 0.        ])"
            ]
          },
          "metadata": {},
          "execution_count": 34
        }
      ]
    },
    {
      "cell_type": "code",
      "source": [
        "test_sentences = []\n",
        "for i in range(len(x_test)):\n",
        "  sentence = \"[CLS] \"\n",
        "  for j in range(len(x_test[i])):\n",
        "      sentence = sentence + ' '+str(x_test[i][j])\n",
        "  sentence = sentence + \" [SEP]\"\n",
        "  test_sentences.append(sentence.strip())\n",
        "\n",
        "test_sentences[0]"
      ],
      "metadata": {
        "colab": {
          "base_uri": "https://localhost:8080/",
          "height": 35
        },
        "id": "UXKn9hVbVdir",
        "outputId": "e490ea62-a556-4778-c348-2271bbddf5a8"
      },
      "execution_count": null,
      "outputs": [
        {
          "output_type": "execute_result",
          "data": {
            "text/plain": [
              "'[CLS]  Keyword CommandArgument Keyword Command Variable Member Member [SEP]'"
            ],
            "application/vnd.google.colaboratory.intrinsic+json": {
              "type": "string"
            }
          },
          "metadata": {},
          "execution_count": 38
        }
      ]
    },
    {
      "cell_type": "code",
      "source": [
        "len(test_sentences)"
      ],
      "metadata": {
        "colab": {
          "base_uri": "https://localhost:8080/"
        },
        "id": "rcESX8ztVvqk",
        "outputId": "da760e09-5b49-4aa7-ee7b-691779cb9f36"
      },
      "execution_count": null,
      "outputs": [
        {
          "output_type": "execute_result",
          "data": {
            "text/plain": [
              "4941"
            ]
          },
          "metadata": {},
          "execution_count": 39
        }
      ]
    },
    {
      "cell_type": "code",
      "source": [
        "bert_test = []\n",
        "for i in range(len(test_sentences)):\n",
        "  if len(test_sentences[i])>512:\n",
        "    tokenized_bert = bert.tokenize(test_sentences[i][:512])\n",
        "  else:\n",
        "    tokenized_bert = bert.tokenize(test_sentences[i])\n",
        "  indexed_tokens = bert.convert_tokens_to_ids(tokenized_bert)\n",
        "  bert_test.append(indexed_tokens)\n",
        "\n",
        "bert_test[0]"
      ],
      "metadata": {
        "colab": {
          "base_uri": "https://localhost:8080/"
        },
        "id": "9VP59jmQVq8I",
        "outputId": "9cd67b70-01f5-4e89-b3c6-7a2bf7ddb085"
      },
      "execution_count": null,
      "outputs": [
        {
          "output_type": "execute_result",
          "data": {
            "text/plain": [
              "[101,\n",
              " 3145,\n",
              " 18351,\n",
              " 3094,\n",
              " 2906,\n",
              " 22850,\n",
              " 4765,\n",
              " 3145,\n",
              " 18351,\n",
              " 3094,\n",
              " 8023,\n",
              " 2266,\n",
              " 2266,\n",
              " 102]"
            ]
          },
          "metadata": {},
          "execution_count": 40
        }
      ]
    },
    {
      "cell_type": "code",
      "source": [
        "bert_padded_test = bert_test.copy()\n",
        "for i in range(len(bert_padded_test)):\n",
        "  while len(bert_padded_test[i]) < 512:\n",
        "    bert_padded_test[i].append(0)\n",
        "\n",
        "len(bert_padded_test[0])"
      ],
      "metadata": {
        "colab": {
          "base_uri": "https://localhost:8080/"
        },
        "id": "62-fOj2CV6SX",
        "outputId": "fe20d213-f92e-4c51-cc4e-4cc92f05dd5b"
      },
      "execution_count": null,
      "outputs": [
        {
          "output_type": "execute_result",
          "data": {
            "text/plain": [
              "512"
            ]
          },
          "metadata": {},
          "execution_count": 41
        }
      ]
    },
    {
      "cell_type": "code",
      "source": [
        "bert_padded_test_np = np.array(bert_padded_test)\n",
        "bert_padded_test_np.shape"
      ],
      "metadata": {
        "colab": {
          "base_uri": "https://localhost:8080/"
        },
        "id": "xewNUsKIWGlb",
        "outputId": "058a3668-bf52-464d-c2a4-f2415f6fe4ff"
      },
      "execution_count": null,
      "outputs": [
        {
          "output_type": "execute_result",
          "data": {
            "text/plain": [
              "(4941, 512)"
            ]
          },
          "metadata": {},
          "execution_count": 42
        }
      ]
    },
    {
      "cell_type": "code",
      "source": [
        "bert_padded_test_normal = preprocessing.normalize(bert_padded_test_np)"
      ],
      "metadata": {
        "id": "qQ7d7bgKWNVq"
      },
      "execution_count": null,
      "outputs": []
    },
    {
      "cell_type": "markdown",
      "source": [
        "# Tensorflow Tokenization"
      ],
      "metadata": {
        "id": "vnVMlWtYX5n0"
      }
    },
    {
      "cell_type": "code",
      "source": [
        "num_words = 1000\n",
        "oov_token = '<UNK>'\n",
        "pad_type = 'post'\n",
        "trunc_type = 'post'"
      ],
      "metadata": {
        "id": "clVzAYL0cUIh"
      },
      "execution_count": null,
      "outputs": []
    },
    {
      "cell_type": "code",
      "source": [
        "tokenizer = Tokenizer(num_words=num_words, oov_token=oov_token)\n",
        "tokenizer.fit_on_texts(x_train)"
      ],
      "metadata": {
        "id": "7oPVYn95cXEv"
      },
      "execution_count": null,
      "outputs": []
    },
    {
      "cell_type": "code",
      "source": [
        "train_sequences = tokenizer.texts_to_sequences(x_train)"
      ],
      "metadata": {
        "id": "wXD3iNvlcagR"
      },
      "execution_count": null,
      "outputs": []
    },
    {
      "cell_type": "code",
      "source": [
        "train_padded = pad_sequences(train_sequences, padding=pad_type, truncating=trunc_type, maxlen=1024)"
      ],
      "metadata": {
        "id": "pq9zsXmmceP-"
      },
      "execution_count": null,
      "outputs": []
    },
    {
      "cell_type": "code",
      "source": [
        "train_padded_norm = preprocessing.normalize(train_padded)"
      ],
      "metadata": {
        "id": "PMVF9I0Rc3Pi"
      },
      "execution_count": null,
      "outputs": []
    },
    {
      "cell_type": "code",
      "source": [
        "tokenizer_test = Tokenizer(num_words=num_words, oov_token=oov_token)\n",
        "tokenizer_test.fit_on_texts(x_test)"
      ],
      "metadata": {
        "id": "VRuvagrEZfDd"
      },
      "execution_count": null,
      "outputs": []
    },
    {
      "cell_type": "code",
      "source": [
        "test_sequences = tokenizer_test.texts_to_sequences(x_test)"
      ],
      "metadata": {
        "id": "sKzkwr4PZf3S"
      },
      "execution_count": null,
      "outputs": []
    },
    {
      "cell_type": "code",
      "source": [
        "test_padded = pad_sequences(test_sequences, padding=pad_type, truncating=trunc_type)"
      ],
      "metadata": {
        "id": "_czCz8EJZikL"
      },
      "execution_count": null,
      "outputs": []
    },
    {
      "cell_type": "code",
      "source": [
        "test_padded_np = np.array(test_padded)"
      ],
      "metadata": {
        "id": "zwVsow07Zmp-"
      },
      "execution_count": null,
      "outputs": []
    },
    {
      "cell_type": "markdown",
      "source": [
        "# Classification with BERT Tokens"
      ],
      "metadata": {
        "id": "9DxafJ3xXs_W"
      }
    },
    {
      "cell_type": "code",
      "source": [
        "clf = XGBClassifier()\n",
        "clf.fit(bert_padded_train_normal, y_train)\n",
        "predictions = clf.predict(bert_padded_test_normal)\n",
        "\n",
        "score = accuracy_score(y_test, predictions)\n",
        "\n",
        "tn, fp, fn, tp = confusion_matrix(y_test, predictions).ravel()\n",
        "tpr = (tp/(tp+fn))*100\n",
        "fpr = (fp/(fp+tn))*100\n",
        "fnr = (fn/(fn+tp))*100\n",
        "tnr = (tn/(tn+fp))*100\n",
        "matrix = confusion_matrix(y_test, predictions)\n",
        "report = classification_report(y_test, predictions)\n",
        "auc = roc_auc_score(y_test, predictions)\n",
        "f1 = f1_score(y_test, predictions)\n",
        "precision = precision_score(y_test, predictions)\n",
        "recall = recall_score(y_test, predictions)\n",
        "test_result = \"\\nAccuracy: %f\\nAUC: %f\\nF1: %f\\nPrecision: %f\\nRecall: %f\\nTPR: %f\\nFPR: %f\\nFNR: %f\\nTNR: %f\\n\" %(score,auc,f1, precision, recall, tpr,fpr,fnr,tnr)\n",
        "print(report)\n",
        "print(test_result)\n",
        "cm = sns.heatmap(matrix, annot=True, fmt=\"d\",cmap='Blues', xticklabels=['Malicious', 'Benign'],yticklabels=['Malicious', 'Benign'])\n",
        "cm.set(xlabel='Predicted', ylabel='Actual',title=\"Confusion Matrix\")\n",
        "plt.show()"
      ],
      "metadata": {
        "colab": {
          "base_uri": "https://localhost:8080/",
          "height": 642
        },
        "id": "1cjJfq7zXcxQ",
        "outputId": "956ee3a9-82ce-49b6-f73e-05aed56ecd68"
      },
      "execution_count": null,
      "outputs": [
        {
          "output_type": "stream",
          "name": "stdout",
          "text": [
            "              precision    recall  f1-score   support\n",
            "\n",
            "           0       0.95      0.71      0.81      3011\n",
            "           1       0.68      0.94      0.79      1930\n",
            "\n",
            "    accuracy                           0.80      4941\n",
            "   macro avg       0.81      0.82      0.80      4941\n",
            "weighted avg       0.84      0.80      0.80      4941\n",
            "\n",
            "\n",
            "Accuracy: 0.800850\n",
            "AUC: 0.824973\n",
            "F1: 0.785808\n",
            "Precision: 0.677553\n",
            "Recall: 0.935233\n",
            "TPR: 93.523316\n",
            "FPR: 28.528728\n",
            "FNR: 6.476684\n",
            "TNR: 71.471272\n",
            "\n"
          ]
        },
        {
          "output_type": "display_data",
          "data": {
            "text/plain": [
              "<Figure size 432x288 with 2 Axes>"
            ],
            "image/png": "[encoded data removed]"
          },
          "metadata": {
            "needs_background": "light"
          }
        }
      ]
    },
    {
      "cell_type": "markdown",
      "source": [
        "# SdA Architecture"
      ],
      "metadata": {
        "id": "8u3faXsSYSGw"
      }
    },
    {
      "cell_type": "code",
      "source": [
        "def buildSdA (layers, units): #function to define SdA structure\n",
        "    autoencoder=Sequential()\n",
        "    autoencoder.add(Input (shape=units))\n",
        "    autoencoder.add(GaussianNoise(0.5))\n",
        "    nodes = list()\n",
        "    nodes.append(units)\n",
        "    #encoder\n",
        "    for i in range(layers):\n",
        "        if i==layers-1: #bottleneck layer = last iteration\n",
        "            autoencoder.add(Dense (nodes[i], activation='linear'))\n",
        "        else:\n",
        "            autoencoder.add(Dense (nodes[i], activation='sigmoid'))\n",
        "            unit= nodes[i]/2 #half unit for next layer\n",
        "            nodes.append(unit)\n",
        "    #decoder\n",
        "    for i in range(1,len(nodes)+1):\n",
        "        autoencoder.add(Dense (nodes[-i], activation='sigmoid')) #iterate over same units in opposite manner\n",
        "         \n",
        "    autoencoder.add(Dense(1))\n",
        "    autoencoder.compile(loss='binary_crossentropy',optimizer='adam', metrics=['accuracy'])\n",
        "    return autoencoder "
      ],
      "metadata": {
        "id": "rOyyUj0LYWmg"
      },
      "execution_count": null,
      "outputs": []
    },
    {
      "cell_type": "code",
      "source": [
        "tokenizer_test = Tokenizer(num_words=num_words, oov_token=oov_token)\n",
        "tokenizer_test.fit_on_texts(x_test)\n",
        "test_sequences = tokenizer_test.texts_to_sequences(x_test)\n",
        "test_padded = pad_sequences(test_sequences, padding=pad_type, truncating=trunc_type, maxlen=1024)\n",
        "test_padded_norm = preprocessing.normalize(test_padded)"
      ],
      "metadata": {
        "id": "qmY74uqPc-QX"
      },
      "execution_count": null,
      "outputs": []
    },
    {
      "cell_type": "markdown",
      "source": [
        "# Classification with SdA and BERT Tokens"
      ],
      "metadata": {
        "id": "6FVsRt4kYr0Y"
      }
    },
    {
      "cell_type": "code",
      "source": [
        "model = buildSdA(1,512)\n",
        "model.fit(bert_padded_train_normal,y_train,epochs=25, verbose=0)\n",
        "\n",
        "bottleneck = Model (inputs=model.inputs, outputs=model.layers[0].output) #define only encoder structure\n",
        "\n",
        "features_train= bottleneck.predict(bert_padded_train_normal)\n",
        "features_test= bottleneck.predict(bert_padded_test_normal)\n",
        "\n",
        "classifier = XGBClassifier(eta=0.1, colsample_bytree=0.8)\n",
        "classifier.fit(features_train, y_train)\n",
        "result = classifier.predict(features_test)\n",
        "\n",
        "score = accuracy_score(y_test, result)\n",
        "\n",
        "tn, fp, fn, tp = confusion_matrix(y_test, result).ravel()\n",
        "tpr = (tp/(tp+fn))*100\n",
        "fpr = (fp/(fp+tn))*100\n",
        "fnr = (fn/(fn+tp))*100\n",
        "tnr = (tn/(tn+fp))*100\n",
        "matrix = confusion_matrix(y_test, result)\n",
        "report = classification_report(y_test, result)\n",
        "auc = roc_auc_score(y_test, result)\n",
        "f1 = f1_score(y_test, result)\n",
        "precision = precision_score(y_test, result)\n",
        "recall = recall_score(y_test, result)\n",
        "test_result = \"\\nAccuracy: %f\\nAUC: %f\\nF1: %f\\nPrecision: %f\\nRecall: %f\\nTPR: %f\\nFPR: %f\\nFNR: %f\\nTNR: %f\\n\" %(score,auc,f1, precision, recall, tpr,fpr,fnr,tnr)\n",
        "print(report)\n",
        "print(test_result)\n",
        "cm = sns.heatmap(matrix, annot=True, fmt=\"d\",cmap='Blues', xticklabels=['Malicious', 'Benign'],yticklabels=['Malicious', 'Benign'])\n",
        "cm.set(xlabel='Predicted', ylabel='Actual',title=\"Confusion Matrix\")\n",
        "plt.show()"
      ],
      "metadata": {
        "colab": {
          "base_uri": "https://localhost:8080/",
          "height": 677
        },
        "id": "uSY3HzBtZJpQ",
        "outputId": "8405c5b3-9d9c-4dbc-ab85-f50a565b9f8b"
      },
      "execution_count": null,
      "outputs": [
        {
          "output_type": "stream",
          "name": "stdout",
          "text": [
            "618/618 [==============================] - 1s 1ms/step\n",
            "155/155 [==============================] - 0s 1ms/step\n",
            "              precision    recall  f1-score   support\n",
            "\n",
            "           0       0.95      0.71      0.82      3011\n",
            "           1       0.68      0.94      0.79      1930\n",
            "\n",
            "    accuracy                           0.80      4941\n",
            "   macro avg       0.82      0.83      0.80      4941\n",
            "weighted avg       0.85      0.80      0.81      4941\n",
            "\n",
            "\n",
            "Accuracy: 0.803683\n",
            "AUC: 0.828786\n",
            "F1: 0.789679\n",
            "Precision: 0.678971\n",
            "Recall: 0.943523\n",
            "TPR: 94.352332\n",
            "FPR: 28.595151\n",
            "FNR: 5.647668\n",
            "TNR: 71.404849\n",
            "\n"
          ]
        },
        {
          "output_type": "display_data",
          "data": {
            "text/plain": [
              "<Figure size 432x288 with 2 Axes>"
            ],
            "image/png": "[encoded data removed]"
          },
          "metadata": {
            "needs_background": "light"
          }
        }
      ]
    },
    {
      "cell_type": "markdown",
      "source": [
        "# Classification with SdA and Tensorflow Tokens"
      ],
      "metadata": {
        "id": "ROdbi2LhYaiL"
      }
    },
    {
      "cell_type": "code",
      "source": [
        "model = buildSdA(1,1024)\n",
        "model.fit(train_padded_norm,y_train,epochs=25, verbose=0)\n",
        "\n",
        "bottleneck = Model (inputs=model.inputs, outputs=model.layers[0].output) #define only encoder structure\n",
        "\n",
        "features_train= bottleneck.predict(train_padded_norm)\n",
        "features_test= bottleneck.predict(test_padded_norm)\n",
        "\n",
        "classifier = XGBClassifier(eta=0.1, colsample_bytree=0.8)\n",
        "classifier.fit(features_train, y_train)\n",
        "result = classifier.predict(features_test)\n",
        "\n",
        "score = accuracy_score(y_test, result)\n",
        "\n",
        "tn, fp, fn, tp = confusion_matrix(y_test, result).ravel()\n",
        "tpr = (tp/(tp+fn))*100\n",
        "fpr = (fp/(fp+tn))*100\n",
        "fnr = (fn/(fn+tp))*100\n",
        "tnr = (tn/(tn+fp))*100\n",
        "matrix = confusion_matrix(y_test, result)\n",
        "report = classification_report(y_test, result)\n",
        "auc = roc_auc_score(y_test, result)\n",
        "f1 = f1_score(y_test, result)\n",
        "precision = precision_score(y_test, result)\n",
        "recall = recall_score(y_test, result)\n",
        "test_result = \"\\nAccuracy: %f\\nAUC: %f\\nF1: %f\\nPrecision: %f\\nRecall: %f\\nTPR: %f\\nFPR: %f\\nFNR: %f\\nTNR: %f\\n\" %(score,auc,f1, precision, recall, tpr,fpr,fnr,tnr)\n",
        "print(report)\n",
        "print(test_result)\n",
        "cm = sns.heatmap(matrix, annot=True, fmt=\"d\",cmap='Blues', xticklabels=['Malicious', 'Benign'],yticklabels=['Malicious', 'Benign'])\n",
        "cm.set(xlabel='Predicted', ylabel='Actual',title=\"Confusion Matrix\")\n",
        "plt.show()"
      ],
      "metadata": {
        "colab": {
          "base_uri": "https://localhost:8080/",
          "height": 677
        },
        "id": "e93_8yTnZK1P",
        "outputId": "eb2b8f75-2982-4b26-c485-71fc405c24fa"
      },
      "execution_count": null,
      "outputs": [
        {
          "output_type": "stream",
          "name": "stdout",
          "text": [
            "618/618 [==============================] - 1s 1ms/step\n",
            "155/155 [==============================] - 0s 1ms/step\n",
            "              precision    recall  f1-score   support\n",
            "\n",
            "           0       0.96      0.41      0.57      3011\n",
            "           1       0.51      0.97      0.67      1930\n",
            "\n",
            "    accuracy                           0.63      4941\n",
            "   macro avg       0.73      0.69      0.62      4941\n",
            "weighted avg       0.78      0.63      0.61      4941\n",
            "\n",
            "\n",
            "Accuracy: 0.628213\n",
            "AUC: 0.689650\n",
            "F1: 0.670965\n",
            "Precision: 0.512729\n",
            "Recall: 0.970466\n",
            "TPR: 97.046632\n",
            "FPR: 59.116573\n",
            "FNR: 2.953368\n",
            "TNR: 40.883427\n",
            "\n"
          ]
        },
        {
          "output_type": "display_data",
          "data": {
            "text/plain": [
              "<Figure size 432x288 with 2 Axes>"
            ],
            "image/png": "[encoded data removed]"
          },
          "metadata": {
            "needs_background": "light"
          }
        }
      ]
    },
    {
      "cell_type": "markdown",
      "source": [
        "# References"
      ],
      "metadata": {
        "id": "man6kjYXaH8S"
      }
    },
    {
      "cell_type": "markdown",
      "source": [
        "[1] Choi, S., 2020. Malicious powershell detection using attention against adversarial attacks. Electronics, 9(11), p.1817."
      ],
      "metadata": {
        "id": "zfjGHwS7aLgH"
      }
    }
  ]
}